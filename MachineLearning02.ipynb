{
  "nbformat": 4,
  "nbformat_minor": 0,
  "metadata": {
    "colab": {
      "provenance": []
    },
    "kernelspec": {
      "name": "python3",
      "display_name": "Python 3"
    },
    "language_info": {
      "name": "python"
    }
  },
  "cells": [
    {
      "cell_type": "code",
      "execution_count": 49,
      "metadata": {
        "colab": {
          "base_uri": "https://localhost:8080/"
        },
        "id": "Ryg5S9nSiBQa",
        "outputId": "2b062e99-020f-430b-e721-76d2d920aeaa"
      },
      "outputs": [
        {
          "output_type": "stream",
          "name": "stdout",
          "text": [
            "tensor([[2, 3, 4],\n",
            "        [1, 5, 6]])\n"
          ]
        }
      ],
      "source": [
        "import torch\n",
        "arreglo = [[2,3,4], [1,5,6]]\n",
        "tensor1 = torch.tensor(arreglo)\n",
        "print(tensor1)"
      ]
    },
    {
      "cell_type": "code",
      "source": [
        "tensor1.device"
      ],
      "metadata": {
        "colab": {
          "base_uri": "https://localhost:8080/"
        },
        "id": "xBshP5JriVXH",
        "outputId": "dfa58a97-9189-49b2-dcfe-2765b4036b99"
      },
      "execution_count": 50,
      "outputs": [
        {
          "output_type": "execute_result",
          "data": {
            "text/plain": [
              "device(type='cpu')"
            ]
          },
          "metadata": {},
          "execution_count": 50
        }
      ]
    },
    {
      "cell_type": "code",
      "source": [
        "device = (\n",
        "    \"cuda\" if torch.cuda.is_available()\n",
        "    else \"cpu\"\n",
        ")\n",
        "print(f\"Usando {device}\")"
      ],
      "metadata": {
        "colab": {
          "base_uri": "https://localhost:8080/"
        },
        "id": "jjv8uVsFiVeu",
        "outputId": "0e5dc94e-01ed-44be-d3c3-7c3ef7f5151d"
      },
      "execution_count": 51,
      "outputs": [
        {
          "output_type": "stream",
          "name": "stdout",
          "text": [
            "Usando cpu\n"
          ]
        }
      ]
    },
    {
      "cell_type": "code",
      "source": [
        "tensor1 = tensor1.to(device)\n",
        "print(tensor1.device)"
      ],
      "metadata": {
        "colab": {
          "base_uri": "https://localhost:8080/"
        },
        "id": "lB9I_froiVk2",
        "outputId": "16de42f2-06a9-48d0-86f9-20e65dfb5e44"
      },
      "execution_count": 52,
      "outputs": [
        {
          "output_type": "stream",
          "name": "stdout",
          "text": [
            "cpu\n"
          ]
        }
      ]
    },
    {
      "cell_type": "code",
      "source": [
        "tensor1.shape"
      ],
      "metadata": {
        "colab": {
          "base_uri": "https://localhost:8080/"
        },
        "id": "I3fvS4eHiVrX",
        "outputId": "9c015ed6-985f-4e9f-a05e-82a18c3fe7aa"
      },
      "execution_count": 53,
      "outputs": [
        {
          "output_type": "execute_result",
          "data": {
            "text/plain": [
              "torch.Size([2, 3])"
            ]
          },
          "metadata": {},
          "execution_count": 53
        }
      ]
    },
    {
      "cell_type": "code",
      "source": [
        "from torchvision import datasets\n",
        "from torchvision.transforms import ToTensor\n",
        "import matplotlib.pyplot as plt\n",
        "\n",
        "data_mnist = datasets.MNIST(\n",
        "    root = \"datos\",\n",
        "    train=True,\n",
        "    download=True,\n",
        "    transform=ToTensor()\n",
        ")"
      ],
      "metadata": {
        "colab": {
          "base_uri": "https://localhost:8080/"
        },
        "id": "78J8yyd6iVxP",
        "outputId": "e727a1d8-11ac-4df6-c1e8-c4b5f75cfc04"
      },
      "execution_count": 6,
      "outputs": [
        {
          "output_type": "stream",
          "name": "stderr",
          "text": [
            "100%|██████████| 9.91M/9.91M [00:00<00:00, 16.7MB/s]\n",
            "100%|██████████| 28.9k/28.9k [00:00<00:00, 501kB/s]\n",
            "100%|██████████| 1.65M/1.65M [00:00<00:00, 4.52MB/s]\n",
            "100%|██████████| 4.54k/4.54k [00:00<00:00, 5.79MB/s]\n"
          ]
        }
      ]
    },
    {
      "cell_type": "code",
      "source": [
        "data_mnist"
      ],
      "metadata": {
        "colab": {
          "base_uri": "https://localhost:8080/"
        },
        "id": "WC7PEFuViV3O",
        "outputId": "23b0e21f-45da-4271-d8e2-1489dd47cb24"
      },
      "execution_count": 7,
      "outputs": [
        {
          "output_type": "execute_result",
          "data": {
            "text/plain": [
              "Dataset MNIST\n",
              "    Number of datapoints: 60000\n",
              "    Root location: datos\n",
              "    Split: Train\n",
              "    StandardTransform\n",
              "Transform: ToTensor()"
            ]
          },
          "metadata": {},
          "execution_count": 7
        }
      ]
    },
    {
      "cell_type": "code",
      "source": [
        "figure = plt.figure(figsize=(8, 8))\n",
        "fils, cols = 3, 3\n",
        "\n",
        "for i in range(1, cols * fils + 1):\n",
        "\n",
        "    sample_idx = torch.randint(len(data_mnist), size=(1,)).item()\n",
        "\n",
        "    img, label = data_mnist[sample_idx]\n",
        "\n",
        "    figure.add_subplot(fils, cols, i)\n",
        "    plt.title(str(label))\n",
        "    plt.axis(\"off\")\n",
        "    plt.imshow(img.squeeze(), cmap=\"gray\")\n",
        "plt.show()"
      ],
      "metadata": {
        "colab": {
          "base_uri": "https://localhost:8080/",
          "height": 675
        },
        "id": "mmrLqqKJiV9O",
        "outputId": "ec0d3a55-4728-4108-adb7-9698ee5cbde0"
      },
      "execution_count": 54,
      "outputs": [
        {
          "output_type": "display_data",
          "data": {
            "text/plain": [
              "<Figure size 800x800 with 9 Axes>"
            ],
            "image/png": "[encoded data removed]"
          },
          "metadata": {}
        }
      ]
    },
    {
      "cell_type": "code",
      "source": [
        "print(f'Tipo de dato imagen: {type(img)}')\n",
        "print(f'Tamaño imagen: {img.shape}')\n",
        "print(f'Mínimo y máximo imagen: {img.min()}, {img.max()}')\n",
        "print(f'Tipo de dato categoría: {type(label)}')"
      ],
      "metadata": {
        "colab": {
          "base_uri": "https://localhost:8080/"
        },
        "id": "FhWigbgeiWDX",
        "outputId": "da8e4729-a06f-44e7-a3aa-ca2331a3ae05"
      },
      "execution_count": 55,
      "outputs": [
        {
          "output_type": "stream",
          "name": "stdout",
          "text": [
            "Tipo de dato imagen: <class 'torch.Tensor'>\n",
            "Tamaño imagen: torch.Size([1, 28, 28])\n",
            "Mínimo y máximo imagen: 0.0, 1.0\n",
            "Tipo de dato categoría: <class 'int'>\n"
          ]
        }
      ]
    },
    {
      "cell_type": "code",
      "source": [
        "torch.manual_seed(123)"
      ],
      "metadata": {
        "colab": {
          "base_uri": "https://localhost:8080/"
        },
        "id": "wfaKHO4AiWJe",
        "outputId": "21f8c7b8-f420-4c39-a458-81db1101d6b9"
      },
      "execution_count": 56,
      "outputs": [
        {
          "output_type": "execute_result",
          "data": {
            "text/plain": [
              "<torch._C.Generator at 0x7d4ccc547e90>"
            ]
          },
          "metadata": {},
          "execution_count": 56
        }
      ]
    },
    {
      "cell_type": "code",
      "source": [
        "train, val, test = torch.utils.data.random_split(\n",
        "    data_mnist, [0.8, 0.1, 0.1]\n",
        ")\n",
        "\n",
        "print(f'Tamaño set de entrenamiento: {len(train)}')\n",
        "print(f'Tamaño set de validación: {len(val)}')\n",
        "print(f'Tamaño set de prueba: {len(test)}')\n",
        "\n",
        "print(f'Tipo de dato set \"train\": {type(train)}')\n",
        "print(f'Tipo de dato set \"val\": {type(val)}')\n",
        "print(f'Tipo de dato set \"test\": {type(test)}')"
      ],
      "metadata": {
        "colab": {
          "base_uri": "https://localhost:8080/"
        },
        "id": "D0i-wpYApvPv",
        "outputId": "c2bae998-bfca-4ccf-a203-599320db6c57"
      },
      "execution_count": 57,
      "outputs": [
        {
          "output_type": "stream",
          "name": "stdout",
          "text": [
            "Tamaño set de entrenamiento: 48000\n",
            "Tamaño set de validación: 6000\n",
            "Tamaño set de prueba: 6000\n",
            "Tipo de dato set \"train\": <class 'torch.utils.data.dataset.Subset'>\n",
            "Tipo de dato set \"val\": <class 'torch.utils.data.dataset.Subset'>\n",
            "Tipo de dato set \"test\": <class 'torch.utils.data.dataset.Subset'>\n"
          ]
        }
      ]
    },
    {
      "cell_type": "code",
      "source": [
        "from torch import nn\n",
        "\n",
        "class RedNeuronal(nn.Module):\n",
        "    def __init__(self):\n",
        "        super().__init__()\n",
        "\n",
        "\n",
        "        self.aplanar = nn.Flatten()\n",
        "        self.red = nn.Sequential(\n",
        "            nn.Linear(28*28, 15),\n",
        "            nn.ReLU(),\n",
        "            nn.Linear(15,10),\n",
        "        )\n",
        "\n",
        "    def forward(self, x):\n",
        "\n",
        "        x = self.aplanar(x)\n",
        "        logits = self.red(x)\n",
        "\n",
        "        return logits"
      ],
      "metadata": {
        "id": "jE3mwlGxpvXX"
      },
      "execution_count": 58,
      "outputs": []
    },
    {
      "cell_type": "code",
      "source": [
        "modelo = RedNeuronal().to(device)\n",
        "print(modelo)"
      ],
      "metadata": {
        "colab": {
          "base_uri": "https://localhost:8080/"
        },
        "id": "YDTYaZd7pvdg",
        "outputId": "d67fd832-6bed-46ca-84f9-39cad6a0b64b"
      },
      "execution_count": 59,
      "outputs": [
        {
          "output_type": "stream",
          "name": "stdout",
          "text": [
            "RedNeuronal(\n",
            "  (aplanar): Flatten(start_dim=1, end_dim=-1)\n",
            "  (red): Sequential(\n",
            "    (0): Linear(in_features=784, out_features=15, bias=True)\n",
            "    (1): ReLU()\n",
            "    (2): Linear(in_features=15, out_features=10, bias=True)\n",
            "  )\n",
            ")\n"
          ]
        }
      ]
    },
    {
      "cell_type": "code",
      "source": [
        "total_params = sum(p.numel() for p in modelo.parameters())\n",
        "print(\"Número de parámetros a entrenar: \", total_params)"
      ],
      "metadata": {
        "colab": {
          "base_uri": "https://localhost:8080/"
        },
        "id": "URwfOUdDpvju",
        "outputId": "86d29e71-0b52-44d0-8599-e06170d98694"
      },
      "execution_count": 60,
      "outputs": [
        {
          "output_type": "stream",
          "name": "stdout",
          "text": [
            "Número de parámetros a entrenar:  11935\n"
          ]
        }
      ]
    },
    {
      "cell_type": "code",
      "source": [
        "img, lbl = train[200]\n",
        "print(type(img))\n",
        "print(type(lbl))"
      ],
      "metadata": {
        "colab": {
          "base_uri": "https://localhost:8080/"
        },
        "id": "_p3kACG3pvpu",
        "outputId": "e1e07778-c683-4fd6-f580-3c3594eb6a2b"
      },
      "execution_count": 61,
      "outputs": [
        {
          "output_type": "stream",
          "name": "stdout",
          "text": [
            "<class 'torch.Tensor'>\n",
            "<class 'int'>\n"
          ]
        }
      ]
    },
    {
      "cell_type": "code",
      "source": [
        "lbl = torch.tensor(lbl).reshape(1)\n",
        "print(type(lbl))"
      ],
      "metadata": {
        "colab": {
          "base_uri": "https://localhost:8080/"
        },
        "id": "c5Jzk_0qpvv5",
        "outputId": "cf236ec0-91d3-4158-a7c6-20bb01fb373f"
      },
      "execution_count": 62,
      "outputs": [
        {
          "output_type": "stream",
          "name": "stdout",
          "text": [
            "<class 'torch.Tensor'>\n"
          ]
        }
      ]
    },
    {
      "cell_type": "code",
      "source": [
        "img, lbl = img.to(device), lbl.to(device)"
      ],
      "metadata": {
        "id": "pPXaRKGjpv1_"
      },
      "execution_count": 63,
      "outputs": []
    },
    {
      "cell_type": "code",
      "source": [
        "logits = modelo(img)\n",
        "print(logits)"
      ],
      "metadata": {
        "colab": {
          "base_uri": "https://localhost:8080/"
        },
        "id": "h5oEFKCDpv76",
        "outputId": "702abdf8-c751-413a-9414-358ddfb8ea26"
      },
      "execution_count": 64,
      "outputs": [
        {
          "output_type": "stream",
          "name": "stdout",
          "text": [
            "tensor([[ 0.1762, -0.0300,  0.1198, -0.0336, -0.0994,  0.0021, -0.1259,  0.0016,\n",
            "          0.0412,  0.1990]], grad_fn=<AddmmBackward0>)\n"
          ]
        }
      ]
    },
    {
      "cell_type": "code",
      "source": [
        "y_pred = logits.argmax(1)\n",
        "\n",
        "plt.imshow(img.cpu().squeeze(), cmap=\"gray\");\n",
        "\n",
        "print(f'Logits: {logits}')\n",
        "print(f'Categoría predicha: {y_pred[0]}')\n",
        "print(f'Categoría real: {lbl[0]}')"
      ],
      "metadata": {
        "colab": {
          "base_uri": "https://localhost:8080/",
          "height": 503
        },
        "id": "f5ho2BghpwCH",
        "outputId": "ffc69738-3152-4cec-eae6-fd3c2b0db923"
      },
      "execution_count": 65,
      "outputs": [
        {
          "output_type": "stream",
          "name": "stdout",
          "text": [
            "Logits: tensor([[ 0.1762, -0.0300,  0.1198, -0.0336, -0.0994,  0.0021, -0.1259,  0.0016,\n",
            "          0.0412,  0.1990]], grad_fn=<AddmmBackward0>)\n",
            "Categoría predicha: 9\n",
            "Categoría real: 6\n"
          ]
        },
        {
          "output_type": "display_data",
          "data": {
            "text/plain": [
              "<Figure size 640x480 with 1 Axes>"
            ],
            "image/png": "[encoded data removed]"
          },
          "metadata": {}
        }
      ]
    },
    {
      "cell_type": "code",
      "source": [
        "fn_perdida = nn.CrossEntropyLoss()\n",
        "optimizador = torch.optim.SGD(modelo.parameters(), lr=0.2)"
      ],
      "metadata": {
        "id": "9NYd_RMSpwK5"
      },
      "execution_count": 66,
      "outputs": []
    },
    {
      "cell_type": "code",
      "source": [
        "loss = fn_perdida(logits, lbl)\n",
        "print(loss)"
      ],
      "metadata": {
        "colab": {
          "base_uri": "https://localhost:8080/"
        },
        "id": "LkBTxzjlyACV",
        "outputId": "efe4f5dd-dee4-406e-f294-a907e3ba989b"
      },
      "execution_count": 67,
      "outputs": [
        {
          "output_type": "stream",
          "name": "stdout",
          "text": [
            "tensor(2.4591, grad_fn=<NllLossBackward0>)\n"
          ]
        }
      ]
    },
    {
      "cell_type": "code",
      "source": [
        "loss.backward()"
      ],
      "metadata": {
        "id": "xxa2Ik23yAKX"
      },
      "execution_count": 68,
      "outputs": []
    },
    {
      "cell_type": "code",
      "source": [
        "optimizador.step()\n",
        "optimizador.zero_grad()"
      ],
      "metadata": {
        "id": "osX1FoF3yAQf"
      },
      "execution_count": 69,
      "outputs": []
    },
    {
      "cell_type": "code",
      "source": [
        "logits = modelo(img)\n",
        "\n",
        "loss = fn_perdida(logits, lbl)\n",
        "loss.backward()\n",
        "optimizador.step()\n",
        "optimizador.zero_grad()"
      ],
      "metadata": {
        "id": "7MY5zCiPyAWm"
      },
      "execution_count": 70,
      "outputs": []
    },
    {
      "cell_type": "code",
      "source": [
        "class RedNeuronal(nn.Module):\n",
        "    def __init__(self):\n",
        "        super().__init__()\n",
        "\n",
        "        self.aplanar = nn.Flatten()\n",
        "        self.red = nn.Sequential(\n",
        "            nn.Linear(28*28, 15),\n",
        "            nn.ReLU(),\n",
        "            nn.Linear(15,10),\n",
        "        )\n",
        "\n",
        "    def forward(self, x):\n",
        "\n",
        "        x = self.aplanar(x)\n",
        "        logits = self.red(x)\n",
        "\n",
        "        return logits\n",
        "\n",
        "modelo = RedNeuronal().to(device)"
      ],
      "metadata": {
        "id": "S7WhLZcSyAcm"
      },
      "execution_count": 71,
      "outputs": []
    },
    {
      "cell_type": "code",
      "source": [
        "from torch.utils.data import DataLoader\n",
        "\n",
        "TAM_LOTE = 1000\n",
        "\n",
        "\n",
        "train_loader = DataLoader(\n",
        "    dataset=train,\n",
        "    batch_size=TAM_LOTE,\n",
        "    shuffle=True\n",
        ")\n",
        "\n",
        "val_loader = DataLoader(\n",
        "    dataset=val,\n",
        "    batch_size=TAM_LOTE,\n",
        "    shuffle=False\n",
        ")"
      ],
      "metadata": {
        "id": "QaL8Z_xvyAiW"
      },
      "execution_count": 72,
      "outputs": []
    },
    {
      "cell_type": "code",
      "source": [
        "\n",
        "TASA_APRENDIZAJE = 0.1\n",
        "EPOCHS = 10"
      ],
      "metadata": {
        "id": "MbDyKZWj04bA"
      },
      "execution_count": 73,
      "outputs": []
    },
    {
      "cell_type": "code",
      "source": [
        "\n",
        "fn_perdida = nn.CrossEntropyLoss()\n",
        "optimizador = torch.optim.SGD(modelo.parameters(), lr=TASA_APRENDIZAJE)"
      ],
      "metadata": {
        "id": "X4Pm_dkL_5Dz"
      },
      "execution_count": 74,
      "outputs": []
    },
    {
      "cell_type": "code",
      "source": [
        "def train_loop(dataloader, model, loss_fn, optimizer):\n",
        "\n",
        "    train_size = len(dataloader.dataset)\n",
        "    nlotes = len(dataloader)\n",
        "\n",
        "    model.train()\n",
        "\n",
        "    perdida_train, exactitud = 0, 0\n",
        "\n",
        "    for nlote, (X, y) in enumerate(dataloader):\n",
        "\n",
        "        X, y = X.to(device), y.to(device)\n",
        "\n",
        "        logits = model(X)\n",
        "\n",
        "        loss = loss_fn(logits, y)\n",
        "        loss.backward()\n",
        "        optimizer.step()\n",
        "        optimizer.zero_grad()\n",
        "\n",
        "        perdida_train += loss.item()\n",
        "        exactitud += (logits.argmax(1)==y).type(torch.float).sum().item()\n",
        "\n",
        "        if nlote % 10 == 0:\n",
        "            ndatos = nlote*TAM_LOTE\n",
        "\n",
        "            print(f\"\\tPérdida: {loss.item():>7f}  [{ndatos:>5d}/{train_size:>5d}]\")\n",
        "\n",
        "    perdida_train /= nlotes\n",
        "    exactitud /= train_size\n",
        "\n",
        "\n",
        "    print(f'\\tExactitud/pérdida promedio:')\n",
        "    print(f'\\t\\tEntrenamiento: {(100*exactitud):>0.1f}% / {perdida_train:>8f}')"
      ],
      "metadata": {
        "id": "cDvltrwD04h5"
      },
      "execution_count": 75,
      "outputs": []
    },
    {
      "cell_type": "code",
      "source": [
        "def val_loop(dataloader, model, loss_fn):\n",
        "\n",
        "    val_size = len(dataloader.dataset)\n",
        "    nlotes = len(dataloader)\n",
        "\n",
        "    model.eval()\n",
        "\n",
        "    perdida_val, exactitud = 0, 0\n",
        "\n",
        "    with torch.no_grad():\n",
        "        for X, y in dataloader:\n",
        "\n",
        "            X, y = X.to(device), y.to(device)\n",
        "\n",
        "            logits = model(X)\n",
        "\n",
        "            perdida_val += loss_fn(logits, y).item()\n",
        "            exactitud += (logits.argmax(1) == y).type(torch.float).sum().item()\n",
        "\n",
        "    perdida_val /= nlotes\n",
        "    exactitud /= val_size\n",
        "\n",
        "    print(f\"\\t\\tValidación: {(100*exactitud):>0.1f}% / {perdida_val:>8f} \\n\")"
      ],
      "metadata": {
        "id": "J2R-Igzi04oh"
      },
      "execution_count": 76,
      "outputs": []
    },
    {
      "cell_type": "code",
      "source": [
        "for t in range(EPOCHS):\n",
        "    print(f\"Iteración {t+1}/{EPOCHS}\\n-------------------------------\")\n",
        "\n",
        "    train_loop(train_loader, modelo, fn_perdida, optimizador)\n",
        "\n",
        "    val_loop(val_loader, modelo, fn_perdida)\n",
        "print(\"Listo, el modelo ha sido entrenado!\")"
      ],
      "metadata": {
        "colab": {
          "base_uri": "https://localhost:8080/"
        },
        "id": "Nni288xvyAoG",
        "outputId": "1e74d170-2e28-44ab-b0bc-d68f94dfe942"
      },
      "execution_count": 77,
      "outputs": [
        {
          "output_type": "stream",
          "name": "stdout",
          "text": [
            "Iteración 1/10\n",
            "-------------------------------\n",
            "\tPérdida: 2.306079  [    0/48000]\n",
            "\tPérdida: 2.152023  [10000/48000]\n",
            "\tPérdida: 1.934167  [20000/48000]\n",
            "\tPérdida: 1.698753  [30000/48000]\n",
            "\tPérdida: 1.459207  [40000/48000]\n",
            "\tExactitud/pérdida promedio:\n",
            "\t\tEntrenamiento: 55.3% / 1.835414\n",
            "\t\tValidación: 71.7% / 1.283330 \n",
            "\n",
            "Iteración 2/10\n",
            "-------------------------------\n",
            "\tPérdida: 1.239127  [    0/48000]\n",
            "\tPérdida: 1.107620  [10000/48000]\n",
            "\tPérdida: 0.918477  [20000/48000]\n",
            "\tPérdida: 0.834119  [30000/48000]\n",
            "\tPérdida: 0.806360  [40000/48000]\n",
            "\tExactitud/pérdida promedio:\n",
            "\t\tEntrenamiento: 77.3% / 0.934018\n",
            "\t\tValidación: 80.6% / 0.722597 \n",
            "\n",
            "Iteración 3/10\n",
            "-------------------------------\n",
            "\tPérdida: 0.747941  [    0/48000]\n",
            "\tPérdida: 0.619071  [10000/48000]\n",
            "\tPérdida: 0.619623  [20000/48000]\n",
            "\tPérdida: 0.557980  [30000/48000]\n",
            "\tPérdida: 0.580324  [40000/48000]\n",
            "\tExactitud/pérdida promedio:\n",
            "\t\tEntrenamiento: 84.8% / 0.605026\n",
            "\t\tValidación: 85.9% / 0.546174 \n",
            "\n",
            "Iteración 4/10\n",
            "-------------------------------\n",
            "\tPérdida: 0.560375  [    0/48000]\n",
            "\tPérdida: 0.513927  [10000/48000]\n",
            "\tPérdida: 0.517033  [20000/48000]\n",
            "\tPérdida: 0.488448  [30000/48000]\n",
            "\tPérdida: 0.495452  [40000/48000]\n",
            "\tExactitud/pérdida promedio:\n",
            "\t\tEntrenamiento: 87.3% / 0.486735\n",
            "\t\tValidación: 87.4% / 0.468979 \n",
            "\n",
            "Iteración 5/10\n",
            "-------------------------------\n",
            "\tPérdida: 0.430331  [    0/48000]\n",
            "\tPérdida: 0.461910  [10000/48000]\n",
            "\tPérdida: 0.411848  [20000/48000]\n",
            "\tPérdida: 0.391283  [30000/48000]\n",
            "\tPérdida: 0.417033  [40000/48000]\n",
            "\tExactitud/pérdida promedio:\n",
            "\t\tEntrenamiento: 88.4% / 0.430740\n",
            "\t\tValidación: 88.2% / 0.428003 \n",
            "\n",
            "Iteración 6/10\n",
            "-------------------------------\n",
            "\tPérdida: 0.408472  [    0/48000]\n",
            "\tPérdida: 0.393954  [10000/48000]\n",
            "\tPérdida: 0.422037  [20000/48000]\n",
            "\tPérdida: 0.373496  [30000/48000]\n",
            "\tPérdida: 0.392132  [40000/48000]\n",
            "\tExactitud/pérdida promedio:\n",
            "\t\tEntrenamiento: 89.0% / 0.398932\n",
            "\t\tValidación: 88.7% / 0.404030 \n",
            "\n",
            "Iteración 7/10\n",
            "-------------------------------\n",
            "\tPérdida: 0.443444  [    0/48000]\n",
            "\tPérdida: 0.378507  [10000/48000]\n",
            "\tPérdida: 0.356626  [20000/48000]\n",
            "\tPérdida: 0.390746  [30000/48000]\n",
            "\tPérdida: 0.370010  [40000/48000]\n",
            "\tExactitud/pérdida promedio:\n",
            "\t\tEntrenamiento: 89.5% / 0.377601\n",
            "\t\tValidación: 88.8% / 0.386546 \n",
            "\n",
            "Iteración 8/10\n",
            "-------------------------------\n",
            "\tPérdida: 0.375413  [    0/48000]\n",
            "\tPérdida: 0.346228  [10000/48000]\n",
            "\tPérdida: 0.350961  [20000/48000]\n",
            "\tPérdida: 0.390044  [30000/48000]\n",
            "\tPérdida: 0.312726  [40000/48000]\n",
            "\tExactitud/pérdida promedio:\n",
            "\t\tEntrenamiento: 89.9% / 0.362329\n",
            "\t\tValidación: 89.4% / 0.372622 \n",
            "\n",
            "Iteración 9/10\n",
            "-------------------------------\n",
            "\tPérdida: 0.317439  [    0/48000]\n",
            "\tPérdida: 0.357240  [10000/48000]\n",
            "\tPérdida: 0.333987  [20000/48000]\n",
            "\tPérdida: 0.334158  [30000/48000]\n",
            "\tPérdida: 0.357564  [40000/48000]\n",
            "\tExactitud/pérdida promedio:\n",
            "\t\tEntrenamiento: 90.1% / 0.350827\n",
            "\t\tValidación: 89.7% / 0.362075 \n",
            "\n",
            "Iteración 10/10\n",
            "-------------------------------\n",
            "\tPérdida: 0.383717  [    0/48000]\n",
            "\tPérdida: 0.299595  [10000/48000]\n",
            "\tPérdida: 0.329352  [20000/48000]\n",
            "\tPérdida: 0.323484  [30000/48000]\n",
            "\tPérdida: 0.370188  [40000/48000]\n",
            "\tExactitud/pérdida promedio:\n",
            "\t\tEntrenamiento: 90.4% / 0.341462\n",
            "\t\tValidación: 89.9% / 0.353772 \n",
            "\n",
            "Listo, el modelo ha sido entrenado!\n"
          ]
        }
      ]
    },
    {
      "cell_type": "code",
      "source": [
        "def predecir(model, img):\n",
        "\n",
        "    logits = model(img)\n",
        "    y_pred = logits.argmax(1).item()\n",
        "\n",
        "    plt.imshow(img.cpu().squeeze(), cmap=\"gray\")\n",
        "    plt.title(f'Categoría predicha: {y_pred}');"
      ],
      "metadata": {
        "id": "go1DWQySyAtv"
      },
      "execution_count": 80,
      "outputs": []
    },
    {
      "cell_type": "code",
      "source": [
        "img, lbl = test[1235]\n",
        "\n",
        "predecir(modelo, img)"
      ],
      "metadata": {
        "colab": {
          "base_uri": "https://localhost:8080/",
          "height": 453
        },
        "id": "cJNUnmsUDmxs",
        "outputId": "13319eb9-6aee-45ee-8d95-24bc4b82adec"
      },
      "execution_count": 81,
      "outputs": [
        {
          "output_type": "display_data",
          "data": {
            "text/plain": [
              "<Figure size 640x480 with 1 Axes>"
            ],
            "image/png": "[encoded data removed]"
          },
          "metadata": {}
        }
      ]
    },
    {
      "cell_type": "code",
      "source": [],
      "metadata": {
        "id": "MQ6iNwF7Dm71"
      },
      "execution_count": null,
      "outputs": []
    }
  ]
}